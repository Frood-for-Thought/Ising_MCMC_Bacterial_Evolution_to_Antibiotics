{
 "cells": [
  {
   "cell_type": "code",
   "execution_count": 18,
   "metadata": {},
   "outputs": [],
   "source": [
    "import numpy as np"
   ]
  },
  {
   "cell_type": "code",
   "execution_count": 29,
   "metadata": {},
   "outputs": [
    {
     "name": "stdout",
     "output_type": "stream",
     "text": [
      "1\n"
     ]
    }
   ],
   "source": [
    "kT = 0.2\n",
    "dE_0_1 = -1\n",
    "dE_0_m1 = 0\n",
    "# The probability of growing to 1\n",
    "prob_g_1 = np.exp(-(dE_0_1 / kT))\n",
    "# The probability of growing to -1\n",
    "prob_g_m1 = np.exp(-(dE_0_m1 / kT))\n",
    "\n",
    "fit_list = [\n",
    "    {\"bool\": dE_0_1 < 0, \"prob\": prob_g_1, \"spin\": 1}, \n",
    "    {\"bool\": dE_0_m1 < 0, \"prob\": prob_g_m1, \"spin\": -1}\n",
    "            ]\n",
    "allow_fit = sum([i[\"bool\"] for i in fit_list])\n",
    "# Both are acceptable\n",
    "if allow_fit > 1:\n",
    "    # Use partition function to find which transition occurs\n",
    "    prob_list = [j[\"prob\"] for j in fit_list]\n",
    "elif allow_fit > 0:\n",
    "    for j in fit_list:\n",
    "        if j[\"bool\"]:\n",
    "            spin = j[\"spin\"]\n",
    "# else:\n"
   ]
  }
 ],
 "metadata": {
  "kernelspec": {
   "display_name": "base",
   "language": "python",
   "name": "python3"
  },
  "language_info": {
   "codemirror_mode": {
    "name": "ipython",
    "version": 3
   },
   "file_extension": ".py",
   "mimetype": "text/x-python",
   "name": "python",
   "nbconvert_exporter": "python",
   "pygments_lexer": "ipython3",
   "version": "3.9.13"
  }
 },
 "nbformat": 4,
 "nbformat_minor": 2
}
