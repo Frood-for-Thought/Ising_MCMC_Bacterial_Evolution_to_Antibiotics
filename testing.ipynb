{
 "cells": [
  {
   "cell_type": "code",
   "execution_count": 1,
   "metadata": {},
   "outputs": [],
   "source": [
    "import numpy as np\n",
    "# Import the Ising Model Functions Class\n",
    "from functions import Ising_Functions"
   ]
  },
  {
   "cell_type": "code",
   "execution_count": 2,
   "metadata": {},
   "outputs": [],
   "source": [
    "# All the parameters are set up for N = 100\n",
    "kT = 0.2\n",
    "N = 100\n",
    "# Set up a zero array to contain random spin grid\n",
    "spin = [[0 for col in range(N)] for row in range(N)]\n",
    "HalfPos = int(N / 2) - 1\n",
    "spin[HalfPos][HalfPos] = 1\n",
    "spin[HalfPos + 1][HalfPos] = 1\n",
    "spin[HalfPos][HalfPos + 1] = 1\n",
    "spin[HalfPos + 1][HalfPos + 1] = 1\n",
    "spin[0][0] = 1\n",
    "spin[0][1] = 1\n",
    "spin[1][0] = 1\n",
    "spin[1][1] = 1\n",
    "\n",
    "# Reformat the array so that it is numpy friendly\n",
    "spin = np.array(spin)"
   ]
  },
  {
   "cell_type": "code",
   "execution_count": 3,
   "metadata": {},
   "outputs": [],
   "source": [
    "spin_array_size = np.size(spin)\n",
    "# Pick a random spin in the array \"spin\"\n",
    "linearIndex = np.random.randint(1, spin_array_size)"
   ]
  },
  {
   "cell_type": "code",
   "execution_count": 4,
   "metadata": {},
   "outputs": [
    {
     "name": "stdout",
     "output_type": "stream",
     "text": [
      "0 0 4 0\n"
     ]
    }
   ],
   "source": [
    "get_values = Ising_Functions(spin, linearIndex, N).Fitness_Eqn_Val()\n",
    "neighbours = get_values[0]\n",
    "neighbours_sqrd = get_values[1]\n",
    "one_minus_neighbour = get_values[2]\n",
    "neighbour_spin_product = get_values[4]\n",
    "print(neighbours, neighbours_sqrd, one_minus_neighbour, neighbour_spin_product)"
   ]
  },
  {
   "cell_type": "code",
   "execution_count": null,
   "metadata": {},
   "outputs": [],
   "source": [
    "spin = 0\n",
    "dE_0_1 = 0.1\n",
    "dE_0_m1 = 0.1\n",
    "# The probability of growing to 1\n",
    "prob_g_1 = np.exp(-(dE_0_1 / kT))\n",
    "# The probability of growing to -1\n",
    "prob_g_m1 = np.exp(-(dE_0_m1 / kT))\n",
    "\n",
    "# The fit_list is one which contains a boolean to determine if the fitness (energy) is negative,\n",
    "# the probability of switching to that state if it is not favorable (due to detailed balance),\n",
    "# and the final spin state.\n",
    "fit_list = [\n",
    "    {\"bool\": dE_0_1 < 0, \"prob\": prob_g_1, \"spin\": 1},\n",
    "    {\"bool\": dE_0_m1 < 0, \"prob\": prob_g_m1, \"spin\": -1}]\n",
    "allow_fit = sum([i[\"bool\"] for i in fit_list])\n",
    "\n",
    "# Determine which values are accepted\n",
    "# Both are acceptable\n",
    "if allow_fit > 1:\n",
    "    prob_rand = np.random.rand()\n",
    "    # Use partition function to find which transition occurs.\n",
    "    prob_list = [j[\"prob\"] for j in fit_list]\n",
    "    G_1_or_m1 = Ising_Functions.partition_gillespie(prob_list, prob_rand)\n",
    "    for k, l in enumerate(G_1_or_m1):\n",
    "        if l:\n",
    "            spin = fit_list[k][\"spin\"]\n",
    "# Only one accepted.\n",
    "elif allow_fit > 0:\n",
    "    for j in fit_list:\n",
    "        if j[\"bool\"]:\n",
    "            spin = j[\"spin\"]\n",
    "# Probability of transition still occurring due to detailed balance\n",
    "else:\n",
    "    prob_rand_g = np.random.rand()\n",
    "    print(prob_rand_g, fit_list[0][\"prob\"], fit_list[1][\"prob\"])\n",
    "    # The probability of both is selected\n",
    "    # Use transition probabilities from detailed balance to find which transition occurs.\n",
    "    allow_prob = sum((prob_rand_g < i[\"prob\"] for i in fit_list))\n",
    "    # Both probabilities from detailed balance are selected due to being above the random number selected.\n",
    "    if allow_prob > 1:\n",
    "        # Reroll number again to randomize which transition occurs.\n",
    "        prob_rand_g = np.random.rand()\n",
    "        # Use partition function to find which transition occurs.\n",
    "        prob_list = [j[\"prob\"] for j in fit_list]\n",
    "        G_1_or_m1 = Ising_Functions.partition_gillespie(prob_list, prob_rand_g)\n",
    "        for k, l in enumerate(G_1_or_m1):\n",
    "            if l:\n",
    "                spin = fit_list[k][\"spin\"]\n",
    "    # Probability of 0 --> 1 selected or Probability of 0 --> -1 selected\n",
    "    else:\n",
    "        for j in fit_list:\n",
    "            if prob_rand_g < j[\"prob\"]:\n",
    "                spin = j[\"spin\"]\n",
    "print(spin)"
   ]
  }
 ],
 "metadata": {
  "kernelspec": {
   "display_name": "base",
   "language": "python",
   "name": "python3"
  },
  "language_info": {
   "codemirror_mode": {
    "name": "ipython",
    "version": 3
   },
   "file_extension": ".py",
   "mimetype": "text/x-python",
   "name": "python",
   "nbconvert_exporter": "python",
   "pygments_lexer": "ipython3",
   "version": "3.9.13"
  }
 },
 "nbformat": 4,
 "nbformat_minor": 2
}
