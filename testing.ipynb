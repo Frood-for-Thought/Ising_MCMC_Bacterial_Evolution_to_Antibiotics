{
 "cells": [
  {
   "cell_type": "code",
   "execution_count": 5,
   "metadata": {},
   "outputs": [],
   "source": [
    "import numpy as np\n",
    "# Import the Ising Model Functions Class\n",
    "from functions import Ising_Functions"
   ]
  },
  {
   "cell_type": "code",
   "execution_count": 6,
   "metadata": {},
   "outputs": [],
   "source": [
    "# All the parameters are set up for N = 100\n",
    "kT = 0.2\n",
    "N = 100\n",
    "# Set up a zero array to contain random spin grid\n",
    "spin = [[0 for col in range(N)] for row in range(N)]\n",
    "HalfPos = int(N / 2) - 1\n",
    "spin[HalfPos][HalfPos] = 1\n",
    "spin[HalfPos + 1][HalfPos] = 1\n",
    "spin[HalfPos][HalfPos + 1] = 1\n",
    "spin[HalfPos + 1][HalfPos + 1] = 1\n",
    "spin[0][0] = 1\n",
    "spin[0][1] = 1\n",
    "spin[1][0] = 1\n",
    "spin[1][1] = 1\n",
    "\n",
    "# Reformat the array so that it is numpy friendly\n",
    "spin = np.array(spin)"
   ]
  },
  {
   "cell_type": "code",
   "execution_count": 12,
   "metadata": {},
   "outputs": [],
   "source": [
    "spin_array_size = np.size(spin)\n",
    "# Pick a random spin in the array \"spin\"\n",
    "linearIndex = np.random.randint(1, spin_array_size)"
   ]
  },
  {
   "cell_type": "code",
   "execution_count": 14,
   "metadata": {},
   "outputs": [
    {
     "name": "stdout",
     "output_type": "stream",
     "text": [
      "0 0 4 0\n"
     ]
    }
   ],
   "source": [
    "get_values = Ising_Functions(spin, linearIndex, N).Fitness_Eqn_Val()\n",
    "neighbours = get_values[0]\n",
    "neighbours_sqrd = get_values[1]\n",
    "one_minus_neighbour = get_values[2]\n",
    "neighbour_spin_product = get_values[4]\n",
    "print(neighbours, neighbours_sqrd, one_minus_neighbour, neighbour_spin_product)"
   ]
  }
 ],
 "metadata": {
  "kernelspec": {
   "display_name": "base",
   "language": "python",
   "name": "python3"
  },
  "language_info": {
   "codemirror_mode": {
    "name": "ipython",
    "version": 3
   },
   "file_extension": ".py",
   "mimetype": "text/x-python",
   "name": "python",
   "nbconvert_exporter": "python",
   "pygments_lexer": "ipython3",
   "version": "3.9.13"
  }
 },
 "nbformat": 4,
 "nbformat_minor": 2
}
