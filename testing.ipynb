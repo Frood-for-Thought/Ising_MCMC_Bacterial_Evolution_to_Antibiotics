{
 "cells": [
  {
   "cell_type": "code",
   "execution_count": 1,
   "metadata": {},
   "outputs": [],
   "source": [
    "import numpy as np"
   ]
  },
  {
   "cell_type": "code",
   "execution_count": 2,
   "metadata": {},
   "outputs": [],
   "source": [
    "kT = 0.2\n",
    "dE_0_1 = 0\n",
    "dE_0_m1 = 0\n",
    "# The probability of growing to 1\n",
    "prob_g_1 = np.exp(-(dE_0_1 / kT))\n",
    "# The probability of growing to -1\n",
    "prob_g_m1 = np.exp(-(dE_0_m1 / kT))\n",
    "\n",
    "fit_list = [\n",
    "    {\"bool\": dE_0_1 < 0, \"prob\": prob_g_1, \"spin\": 1}, \n",
    "    {\"bool\": dE_0_m1 < 0, \"prob\": prob_g_m1, \"spin\": -1}            ]\n",
    "allow_fit = sum([i[\"bool\"] for i in fit_list])\n",
    "\n",
    "# Both are acceptable.\n",
    "if allow_fit > 1:\n",
    "    # Use partition function to find which transition occurs.\n",
    "    prob_list = [j[\"prob\"] for j in fit_list]\n",
    "# Only one accepted.\n",
    "elif allow_fit > 0:\n",
    "    for j in fit_list:\n",
    "        if j[\"bool\"]:\n",
    "            spin = j[\"spin\"]\n",
    "# Probability of one accepted using detailed balance.\n",
    "else:\n",
    "    prob_rand_g = np.random.rand()\n",
    "    # Use partition function to find which transition occurs.\n",
    "    allow_prob = sum([prob_rand_g < i[\"prob\"] for i in fit_list])\n",
    "    if allow_prob > 1:\n",
    "        prob_list = [j[\"prob\"] for j in fit_list]\n",
    "    else:\n",
    "        for j in fit_list:\n",
    "            if prob_rand_g < j[\"prob\"]:\n",
    "                spin = j[\"spin\"]"
   ]
  },
  {
   "cell_type": "code",
   "execution_count": 9,
   "metadata": {},
   "outputs": [
    {
     "name": "stdout",
     "output_type": "stream",
     "text": [
      "True\n"
     ]
    }
   ],
   "source": [
    "kT = 0.2\n",
    "dE_0_1 = 0\n",
    "dE_0_m1 = -1\n",
    "# The probability of growing to 1\n",
    "prob_g_1 = np.exp(-(dE_0_1 / kT))\n",
    "# The probability of growing to -1\n",
    "prob_g_m1 = np.exp(-(dE_0_m1 / kT))\n",
    "\n",
    "fit_list = [\n",
    "    {\"bool\": dE_0_1 < 0, \"prob\": prob_g_1, \"spin\": 1}, \n",
    "    {\"bool\": dE_0_m1 < 0, \"prob\": prob_g_m1, \"spin\": -1}            \n",
    "    ]\n",
    "allow_fit = sum([i[\"bool\"] for i in fit_list])\n",
    "bool_list = [i[\"bool\"] for i in fit_list]\n",
    "for i, j in enumerate(bool_list):\n",
    "    if j:\n",
    "        print(bool_list[i])"
   ]
  }
 ],
 "metadata": {
  "kernelspec": {
   "display_name": "base",
   "language": "python",
   "name": "python3"
  },
  "language_info": {
   "codemirror_mode": {
    "name": "ipython",
    "version": 3
   },
   "file_extension": ".py",
   "mimetype": "text/x-python",
   "name": "python",
   "nbconvert_exporter": "python",
   "pygments_lexer": "ipython3",
   "version": "3.9.13"
  }
 },
 "nbformat": 4,
 "nbformat_minor": 2
}
