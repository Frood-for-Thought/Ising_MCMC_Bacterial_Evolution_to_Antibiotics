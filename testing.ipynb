{
 "cells": [
  {
   "cell_type": "code",
   "execution_count": 1,
   "metadata": {},
   "outputs": [],
   "source": [
    "import numpy as np"
   ]
  },
  {
   "cell_type": "code",
   "execution_count": 15,
   "metadata": {},
   "outputs": [
    {
     "name": "stdout",
     "output_type": "stream",
     "text": [
      "2\n"
     ]
    }
   ],
   "source": [
    "dE_0_1 = -1\n",
    "dE_0_m1 = -1\n",
    "fit_list = [{\"dE\": dE_0_1, \"bool\": dE_0_1 < 0}, {\"dE\": dE_0_m1, \"bool\": dE_0_m1 < 0}]\n",
    "print(sum([i[\"bool\"] for i in fit_list]))\n",
    "# fit_bool = [i < 0 for i in fit_list]\n",
    "# allow_fit = sum(fit_bool)"
   ]
  }
 ],
 "metadata": {
  "kernelspec": {
   "display_name": "base",
   "language": "python",
   "name": "python3"
  },
  "language_info": {
   "codemirror_mode": {
    "name": "ipython",
    "version": 3
   },
   "file_extension": ".py",
   "mimetype": "text/x-python",
   "name": "python",
   "nbconvert_exporter": "python",
   "pygments_lexer": "ipython3",
   "version": "3.9.13"
  }
 },
 "nbformat": 4,
 "nbformat_minor": 2
}
